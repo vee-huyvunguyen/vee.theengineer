{
 "cells": [
  {
   "cell_type": "code",
   "execution_count": 1,
   "metadata": {},
   "outputs": [],
   "source": [
    "import json\n",
    "import pandas as pd"
   ]
  },
  {
   "cell_type": "code",
   "execution_count": 2,
   "metadata": {},
   "outputs": [],
   "source": [
    "TAGS_PATH = \"../image_tagging/tags.json\"\n",
    "IMAGES_INFO_PATH = \"../holden_scrape/scrape_info.json\""
   ]
  },
  {
   "cell_type": "code",
   "execution_count": 3,
   "metadata": {},
   "outputs": [],
   "source": [
    "with open(IMAGES_INFO_PATH, \"r\") as f:\n",
    "    images_info = json.load(f)\n",
    "    images_url_path = {\n",
    "        info[\"images\"][0][\"path\"].split(\"/\")[-1]:info[\"image_urls\"][0]\n",
    "        for info in images_info\n",
    "    }\n",
    "\n",
    "with open(TAGS_PATH, \"r\") as f:\n",
    "    images_tags = json.load(f)"
   ]
  },
  {
   "cell_type": "code",
   "execution_count": 4,
   "metadata": {},
   "outputs": [],
   "source": [
    "new_tags = []\n",
    "\n",
    "for tag in images_tags:\n",
    "    tag['objects'] = \",\".join(set(tag['objects'])) if tag['objects'] else None\n",
    "    tag[\"image_url\"] = images_url_path[tag[\"image_path\"].split(\"/\")[-1]]\n",
    "    tag['main_color_name'] = tag['colors']['main_color_name']\n",
    "    tag['main_color_rgb'] = tag['colors']['main_color_rgb']\n",
    "    tag['other_colors_names'] = \",\".join(set(tag['colors']['other_colors_names']))\n",
    "    tag.pop('colors')\n",
    "    new_tags.append(tag)\n",
    "\n",
    "image_tags_df = pd.DataFrame(new_tags)\n",
    "image_tags_df.to_csv(\"image_tags.csv\", index=False)\n",
    "    "
   ]
  },
  {
   "cell_type": "code",
   "execution_count": null,
   "metadata": {},
   "outputs": [],
   "source": []
  }
 ],
 "metadata": {
  "kernelspec": {
   "display_name": ".venv",
   "language": "python",
   "name": "python3"
  },
  "language_info": {
   "codemirror_mode": {
    "name": "ipython",
    "version": 3
   },
   "file_extension": ".py",
   "mimetype": "text/x-python",
   "name": "python",
   "nbconvert_exporter": "python",
   "pygments_lexer": "ipython3",
   "version": "3.10.16"
  }
 },
 "nbformat": 4,
 "nbformat_minor": 2
}
